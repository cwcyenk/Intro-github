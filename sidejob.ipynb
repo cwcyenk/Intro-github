{
 "cells": [
  {
   "cell_type": "code",
   "execution_count": 1,
   "id": "f02033ba",
   "metadata": {},
   "outputs": [],
   "source": [
    "import pandas as pd\n",
    "import scipy.io\n",
    "import numpy as np\n",
    "from scipy.io import wavfile"
   ]
  },
  {
   "cell_type": "code",
   "execution_count": 6,
   "id": "563006e1",
   "metadata": {},
   "outputs": [],
   "source": [
    "def write_voice(filename, data, fs):\n",
    "    \n",
    "    df = pd.DataFrame(data)\n",
    "    wavfile.write(filename=filename, rate=fs, data=np.array(df).astype(np.int16))\n",
    "    return None"
   ]
  },
  {
   "cell_type": "code",
   "execution_count": 3,
   "id": "86c043a5",
   "metadata": {},
   "outputs": [],
   "source": [
    "mat = scipy.io.loadmat('VDE_i_head_3B.mat')\n",
    "channel_i = mat['vde3_i']\n",
    "\n",
    "mat = scipy.io.loadmat('VDE_q_head_3B.mat')\n",
    "channel_q = mat['vde3_q']"
   ]
  },
  {
   "cell_type": "code",
   "execution_count": 33,
   "id": "e60cf05b",
   "metadata": {},
   "outputs": [
    {
     "name": "stdout",
     "output_type": "stream",
     "text": [
      "6762624\n"
     ]
    }
   ],
   "source": [
    "sample_rate = 6000\n",
    "fs = 134400\n",
    "actual_sample_rate = int(fs / sample_rate)\n",
    "\n",
    "channel_ii = channel_i[0]\n",
    "channel_qq = channel_q[0]\n",
    "\n",
    "print(len(channel_ii))\n",
    "\n",
    "#channel_ii = channel_ii[::sample_rate]\n",
    "#channel_qq = channel_qq[::sample_rate]\n",
    "data = {'1': channel_ii, '2': channel_qq}\n",
    "\n",
    "write_voice('VDE_3B.wav',{'1': channel_ii,'2': channel_qq}, sample_rate)"
   ]
  },
  {
   "cell_type": "code",
   "execution_count": 10,
   "id": "6deb59cc",
   "metadata": {},
   "outputs": [],
   "source": [
    "import numpy as np\n",
    "import pandas as pd\n",
    "import scipy\n",
    "\n",
    "import matplotlib.pyplot as plt\n",
    "from scipy.io import wavfile\n",
    "\n",
    "%matplotlib inline"
   ]
  },
  {
   "cell_type": "code",
   "execution_count": 11,
   "id": "887a171a",
   "metadata": {},
   "outputs": [],
   "source": [
    "def load_music(filename):\n",
    "    '''\n",
    "    Takes the location of the music WAV file as a input and returns \n",
    "    the sampling frequency (Hz) of the sound file, the time array \n",
    "    of the digital sound signal (sec), and the sound channels.\n",
    "    \n",
    "    inputs:\n",
    "        filename (str)\n",
    "    outputs:\n",
    "        fs (int)\n",
    "        t List[float]\n",
    "        channels List[List[float]]\n",
    "    '''\n",
    "    fs, data = wavfile.read(filename)\n",
    "    num_channels = np.shape(data)[1]\n",
    "    \n",
    "    L = np.shape(data)[0]\n",
    "    t = np.array(range(0, L))/fs\n",
    "\n",
    "    channels = {}\n",
    "    for n in range(num_channels):\n",
    "        channels[str(n+1)] = [data[i][n] for i in range(L)]\n",
    "    \n",
    "    return fs, t, channels\n",
    "\n",
    "def write_music(filename, data, fs):\n",
    "    '''\n",
    "    Writes the sound data into a WAV file with location filename. \n",
    "    The sampling frequency is given in Hz, and the data is given as\n",
    "    a dictionary of which the values are the channels in the music file.\n",
    "    \n",
    "    inputs:\n",
    "        filename (str)\n",
    "        data Dict{any: List[float]}\n",
    "        fs (int)\n",
    "    outputs:\n",
    "        None\n",
    "    '''\n",
    "    df = pd.DataFrame(data)\n",
    "    wavfile.write(filename=filename, rate=fs, data=np.array(df).astype(np.int16))\n",
    "    return None\n",
    "\n",
    "def freq_spectrum(data, fs, lim=None):\n",
    "    '''\n",
    "    Plots the frequency spectrum of music channels with sampling frequency fs (Hz).\n",
    "    \n",
    "    inputs:\n",
    "        data List[float]\n",
    "        fs (int)\n",
    "        lim (optional to limit plots x-axis) (float)\n",
    "    outputs:\n",
    "        None\n",
    "    '''\n",
    "    N = np.size(data)\n",
    "\n",
    "    yf = fft(data) # fft of the signal \n",
    "\n",
    "    xf = fftfreq(N, 1/fs)\n",
    "    xf = fftshift(xf) #  preparing the x-axis for the spectrum\n",
    "\n",
    "    yplot = fftshift(yf)\n",
    "\n",
    "    plt.plot(xf, 1.0/N * np.abs(yplot))\n",
    "    plt.xlabel('Frequency (Hz)')\n",
    "    plt.ylabel('Magnitude')\n",
    "    if lim is not None:\n",
    "        plt.xlim([-lim,lim])\n",
    "    plt.grid()\n",
    "    return None"
   ]
  },
  {
   "cell_type": "code",
   "execution_count": 34,
   "id": "49b1f2e0",
   "metadata": {},
   "outputs": [
    {
     "name": "stdout",
     "output_type": "stream",
     "text": [
      "30000\n"
     ]
    }
   ],
   "source": [
    "fs, t, channels = load_music('morganFreemanResized.wav')\n",
    "channel1 = np.array(channels['1'])\n",
    "channel2 = np.array(channels['2'])\n",
    "\n",
    "N = np.logical_and(0 < t, t <= 5) # trimming a second from it\n",
    "t = t[N]\n",
    "t = t - t[0]\n",
    "channel1 = channel1[N]\n",
    "channel2 = channel2[N]\n",
    "\n",
    "print(len(channel1))"
   ]
  },
  {
   "cell_type": "code",
   "execution_count": 27,
   "id": "fbbed636",
   "metadata": {},
   "outputs": [],
   "source": [
    "sample_rate = 6000\n",
    "actual_sample_rate = int(fs/sample_rate)\n",
    "# Resampled signal\n",
    "channel1_resampled = channel1[::actual_sample_rate]\n",
    "channel2_resampled = channel2[::actual_sample_rate]\n",
    "write_music('morganFreemanResampled.wav',{'1': channel1_resampled,'2':channel2_resampled},sample_rate)"
   ]
  },
  {
   "cell_type": "code",
   "execution_count": null,
   "id": "40a2e3bc",
   "metadata": {},
   "outputs": [],
   "source": []
  }
 ],
 "metadata": {
  "kernelspec": {
   "display_name": "Python 3 (ipykernel)",
   "language": "python",
   "name": "python3"
  },
  "language_info": {
   "codemirror_mode": {
    "name": "ipython",
    "version": 3
   },
   "file_extension": ".py",
   "mimetype": "text/x-python",
   "name": "python",
   "nbconvert_exporter": "python",
   "pygments_lexer": "ipython3",
   "version": "3.9.7"
  }
 },
 "nbformat": 4,
 "nbformat_minor": 5
}
